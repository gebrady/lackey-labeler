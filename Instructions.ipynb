{
 "cells": [
  {
   "cell_type": "markdown",
   "metadata": {},
   "source": [
    "# PoCoPet Labeler for XRF Beads with a graphical user interface\n",
    "### With the amount of XRF glass and samples generated in the Pomona lab, it would be helpful to increase efficiency in label creation using a tabular format. Currently, data are entered into Microsoft Word files one line at a time by hand, creating opportunities for human error in data entry and general slowness. Expediting the data entry through an automated method ensures accurate data transfer from field notes, chemical databases, and other sources of stored information. \n",
    "\n",
    "### Although the data we gather and notate in the Pomona lab generally require a human to intiate their presence in catalogs, we can minimize the amount of times these data are transferred by hand to decrease the potential for accidental skewing and errors. Likewise, data entry in a tabular format like Excel better allows the user to follow along with their data, i.e. match consistency among attributes of the same type, see the entire catalog in one view, or directly import columns of data from existing archives of chemical or descriptive data; on the other hand, entering data line-by-line, cell-by-cell in a word document prohibits checks in consistency.  \n",
    "\n",
    "### Thus, the following packages were developed to streamline the process from data table to table of labels. The following workflow is carried out: \n",
    "\n",
    "##### (1) Tabular data are uploaded\n",
    "##### (2) Unique suites contained in the data are identified and enumerated\n",
    "##### (3) User selects colors for each suite in the data\n",
    "##### (4) User-given attributes are used alongside the tabular data table to populate a Word template.\n",
    "\n",
    "### Lastly, the use of a graphical user interface encourages petrologists, geologists, etc. of any coding ability to operate this beta-level software. \n",
    "\n",
    "##### Disclaimer: While the code runs smoothly and has been tested many times, the author has not corroborated efficiency with other developers to create a vastly applicable code with many features. Potential updates to the design are written in the code files as comments.\n",
    "\n",
    "### __RULES__: Data must have at least the same columns as the template data (additional columns are fine, but as of now only the matching names will be used to populated the data table)\n",
    "### You must restart the whole app to upload a different data table or to create multiple labels for multiple files."
   ]
  },
  {
   "cell_type": "code",
   "execution_count": 1,
   "metadata": {},
   "outputs": [],
   "source": [
    "# if using a python interpreter, type and run the following two cells #\n",
    "from SuiteColorChooser import ColorWheel #import the class"
   ]
  },
  {
   "cell_type": "code",
   "execution_count": 2,
   "metadata": {},
   "outputs": [],
   "source": [
    "cw = ColorWheel() #initiate an object of the type ColorWheel\n",
    "cw.mainloop()\n",
    "# At this step, the GUI should pop up."
   ]
  },
  {
   "cell_type": "code",
   "execution_count": null,
   "metadata": {},
   "outputs": [],
   "source": [
    "# Alternate Command Line Script #\n",
    "# use this if running from the terminal or powershell. In some ways, this is easiest. #\n",
    "python SuiteColorChooser.py"
   ]
  },
  {
   "cell_type": "markdown",
   "metadata": {},
   "source": [
    "![Figure 1](jupyterimg/figure1.png \"Figure 1\")\n",
    "Figure 1: Just this section pops up to begin with. Click to upload a data file. Currently the app accepts .xlsx, .csv, and .txt tab-delimitted text."
   ]
  },
  {
   "cell_type": "markdown",
   "metadata": {},
   "source": [
    "![Figure 2](jupyterimg/figure2.png \"Figure 2\")\n",
    "Figure 2: Browse your documents to upload the proper file. Be sure to use the same column names as the template file stored in TemplateData.xlsx and other files. __In this version__, the app's code can only decipher data files with at least these column names present. Future versions will increase variability with this. The default directory is the working directory from which you ran the program to begin with; other directories are still accessibile by browsing. The outfile will be written to the working directory regardless of where the data area from."
   ]
  },
  {
   "cell_type": "markdown",
   "metadata": {},
   "source": [
    "![Figure 3](jupyterimg/figure3.png \"Figure 3\")\n",
    "Figure 3: The data have been properly read and you are ready to begin designating colors using the swatches that pop up. Once you've selected one, click the choose color button again."
   ]
  },
  {
   "cell_type": "markdown",
   "metadata": {},
   "source": [
    "![Figure 4](jupyterimg/figure4.png \"Figure 4\")\n",
    "Figure 4: The suite for which you just chose a color should be listed in the color you chose for it. Currently, only the preceding suite choice is displayed; a future version ideally will list all suites and their colors so that the user does not accidently repeat colors without knowing what they have already chosen."
   ]
  },
  {
   "cell_type": "markdown",
   "metadata": {},
   "source": [
    "![Figure 5](jupyterimg/figure5.png \"Figure 5\")\n",
    "Figure 5: When finished with all identified unique suites, a list of all suites should be displayed. This means you are ready to compile the data and produce your labels. Click!"
   ]
  },
  {
   "cell_type": "markdown",
   "metadata": {},
   "source": [
    "![Figure 6](jupyterimg/figure6.png \"Figure 6\")\n",
    "Figure 6: Watch for a surprise in one of the fun images that pops up when you've successfully compiled the data! Find the outfile in your folders and get printing/cutting."
   ]
  },
  {
   "cell_type": "markdown",
   "metadata": {},
   "source": [
    "### Click the Quit button to end the app's run and enjoy your new .docx file. Convert it to .pdf if you'd like."
   ]
  }
 ],
 "metadata": {
  "kernelspec": {
   "display_name": "Python 3 (ipykernel)",
   "language": "python",
   "name": "python3"
  },
  "language_info": {
   "codemirror_mode": {
    "name": "ipython",
    "version": 3
   },
   "file_extension": ".py",
   "mimetype": "text/x-python",
   "name": "python",
   "nbconvert_exporter": "python",
   "pygments_lexer": "ipython3",
   "version": "3.9.13"
  }
 },
 "nbformat": 4,
 "nbformat_minor": 2
}
